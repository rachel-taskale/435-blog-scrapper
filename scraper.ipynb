{
 "cells": [
  {
   "cell_type": "code",
   "execution_count": 1,
   "metadata": {},
   "outputs": [],
   "source": [
    "import os\n",
    "import requests\n",
    "from bs4 import BeautifulSoup\n",
    "import pandas as pd\n",
    "\n",
    "date_log = []\n",
    "curr_length_of_date_log = len(date_log)\n",
    "\n",
    "# Main function\n",
    "#Calls the check_if_updated function to see if \n",
    "def main():\n",
    "    check_if_updated(date_log, curr_length_of_date_log)\n",
    "\n",
    "\n",
    "#Function to check \n",
    "def check_if_updated(date_log, curr_length_of_date_log):\n",
    "    # from tabulate import tabulate\n",
    "\n",
    "    url = \"https://seam.cs.umd.edu/purtilo/435/blog.html\"\n",
    "    reponse = requests.get(url)\n",
    "    soup = BeautifulSoup(reponse.text, \"html.parser\")\n",
    "    title = str(soup.find(\"title\"))\n",
    "    current_blog_post_dates = []\n",
    "\n",
    "    table = soup.find_all(\"table\")\n",
    "    # rows = table.find_all(\"\")\n",
    "    # print(\"A information is: \", table)\n",
    "\n",
    "\n",
    "    df = pd.read_html('https://seam.cs.umd.edu/purtilo/435/blog.html')\n",
    "    print(\"pandas_table: \", df)\n",
    "    print( df[0])\n",
    "    length_of_table = len(df)\n",
    "    print(length_of_table)\n",
    "\n",
    "\n",
    "    # we will have it check the blog every half an hour\n",
    "    # \n",
    "    # if length_of_table \n",
    "\n"
   ]
  }
 ],
 "metadata": {
  "interpreter": {
   "hash": "0db662566b5dc5596f24824bd34bee88ecbf01a461d24f13149ac708b4960948"
  },
  "kernelspec": {
   "display_name": "Python 3.8.5 ('base')",
   "language": "python",
   "name": "python3"
  },
  "language_info": {
   "codemirror_mode": {
    "name": "ipython",
    "version": 3
   },
   "file_extension": ".py",
   "mimetype": "text/x-python",
   "name": "python",
   "nbconvert_exporter": "python",
   "pygments_lexer": "ipython3",
   "version": "3.8.5"
  },
  "orig_nbformat": 4
 },
 "nbformat": 4,
 "nbformat_minor": 2
}
